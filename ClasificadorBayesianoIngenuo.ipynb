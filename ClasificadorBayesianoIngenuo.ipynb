{
  "nbformat": 4,
  "nbformat_minor": 0,
  "metadata": {
    "colab": {
      "name": "ClasificadorBayesianoIngenuo.ipynb",
      "provenance": [],
      "authorship_tag": "ABX9TyNeK6OHcYxKzoXvBpPMSAMD",
      "include_colab_link": true
    },
    "kernelspec": {
      "name": "python3",
      "display_name": "Python 3"
    },
    "language_info": {
      "name": "python"
    }
  },
  "cells": [
    {
      "cell_type": "markdown",
      "metadata": {
        "id": "view-in-github",
        "colab_type": "text"
      },
      "source": [
        "<a href=\"https://colab.research.google.com/github/alulec/ProgramasTareasVarios/blob/main/ClasificadorBayesianoIngenuo.ipynb\" target=\"_parent\"><img src=\"https://colab.research.google.com/assets/colab-badge.svg\" alt=\"Open In Colab\"/></a>"
      ]
    },
    {
      "cell_type": "code",
      "metadata": {
        "id": "5FH62vJ0L_1C"
      },
      "source": [
        "import pandas as pd\n",
        "\n",
        "Tabla = pd.read_csv(\"/content/bebidas.csv\", index_col= 0)\n",
        "# Tabla"
      ],
      "execution_count": 1,
      "outputs": []
    },
    {
      "cell_type": "code",
      "metadata": {
        "id": "34fisB2ZNDI9"
      },
      "source": [
        "import seaborn as sns\n",
        "# sns.scatterplot(x=Tabla.Edad, y=Tabla.Temperatura, hue=Tabla.Bebida)\n"
      ],
      "execution_count": 2,
      "outputs": []
    },
    {
      "cell_type": "code",
      "metadata": {
        "id": "gY2-9sr6Nvnr"
      },
      "source": [
        "# 0 = menor. - si la edad es menor que 18 años.\n",
        "# 1 = adulto. - si la edad es mayor o igual a 18 años, y menor que 60 años.\n",
        "# 2 = mayor. - si la edad es mayor o igual a 60 años.\n",
        "\n",
        "for i in range(0, 1000):\n",
        "    if Tabla.Edad[i] < 18:\n",
        "        Tabla.Edad[i] = 0\n",
        "    elif (Tabla.Edad[i] >= 18) and (Tabla.Edad[i] < 60):\n",
        "        Tabla.Edad[i] = 1\n",
        "    else:\n",
        "        Tabla.Edad[i] = 2\n",
        "\n",
        "# Tabla"
      ],
      "execution_count": 3,
      "outputs": []
    },
    {
      "cell_type": "code",
      "metadata": {
        "id": "8hd7_2f_PeEo"
      },
      "source": [
        "# 1 = frío. - si la temperatura es menor o igual a 10°C\n",
        "# 2 = templado. – si la temperatura es mayor a 10°C y menor a 20°C\n",
        "# 3 = cálido. - si la temperatura es mayor o igual a 20°C\n",
        "\n",
        "for i in range(0, 1000):\n",
        "    if Tabla.Temperatura[i] <= 10:\n",
        "        Tabla.Temperatura[i] = 0\n",
        "    elif (Tabla.Temperatura[i] > 10) and (Tabla.Temperatura[i] < 20):\n",
        "        Tabla.Temperatura[i] = 1\n",
        "    else:\n",
        "        Tabla.Temperatura[i] = 2\n",
        "\n",
        "# Tabla"
      ],
      "execution_count": 4,
      "outputs": []
    },
    {
      "cell_type": "code",
      "metadata": {
        "id": "XorKtKO6QF7h"
      },
      "source": [
        "PrioriZ = [0, 0]\n",
        "\n",
        "for i in range(0, 1000):\n",
        "    if Tabla.Bebida[i] == 0:\n",
        "        PrioriZ[0] += 1\n",
        "    else:\n",
        "        PrioriZ[1] += 1   \n",
        "\n",
        "PrioriZ[0] /= 1000\n",
        "PrioriZ[1] /= 1000\n",
        "\n",
        "# print(PrioriZ[0], \"/\", PrioriZ[1]) "
      ],
      "execution_count": 5,
      "outputs": []
    },
    {
      "cell_type": "code",
      "metadata": {
        "id": "K3y5S700S20-"
      },
      "source": [
        "\"\"\"\n",
        "Esto funciona porque esta utilizando la forma en que esta categorizada\n",
        "la informacion, de modo que el valor de Tabla.Bebida[] es exactamente el idice \n",
        "que debe recibir n. Esta genial.\n",
        "\n",
        "n = [0, 0]\n",
        "for i in range(0, 1000):\n",
        "    n[Tabla.Bebida[i]] += 1\n",
        "print(n[0], \"/\", n[1]) \n",
        "\"\"\""
      ],
      "execution_count": null,
      "outputs": []
    },
    {
      "cell_type": "code",
      "metadata": {
        "id": "fNycnSFF4rdO"
      },
      "source": [
        "Campos = {'X=y':['Menor', 'Menor', 'Menor', 'Adulto', 'Adulto', 'Adulto', 'Mayor', 'Mayor', 'Mayor'],\n",
        "          'Y=y':['Frio', 'Templado', 'Calido','Frio', 'Templado', 'Calido','Frio', 'Templado', 'Calido'],\n",
        "          'P(X=x and Y=y)':[0,0,0,0,0,0,0,0,0]}\n",
        "DistribucionXY = pd.DataFrame(Campos)"
      ],
      "execution_count": 6,
      "outputs": []
    },
    {
      "cell_type": "code",
      "metadata": {
        "colab": {
          "base_uri": "https://localhost:8080/"
        },
        "id": "UR4YN97BxQgW",
        "outputId": "2139f621-2330-46c8-e4ba-eeef99350c08"
      },
      "source": [
        "UnionXY =[[0,0,0], [0,0,0], [0,0,0]]\n",
        "tem = 0\n",
        "\n",
        "for i in range(0,1000):\n",
        "    UnionXY[Tabla.Edad[i]][Tabla.Temperatura[i]] += 1\n",
        "\n",
        "for i in range(0,3):\n",
        "    for j in range(0,3):\n",
        "        UnionXY[i][j] /= 1000\n",
        "        DistribucionXY.iloc[tem, 2] = UnionXY[i][j]\n",
        "        tem += 1\n",
        "# UnionXY\n",
        "# DistribucionXY"
      ],
      "execution_count": 11,
      "outputs": [
        {
          "output_type": "execute_result",
          "data": {
            "text/plain": [
              "[[0.036, 0.05, 0.028], [0.178, 0.309, 0.126], [0.077, 0.133, 0.063]]"
            ]
          },
          "metadata": {
            "tags": []
          },
          "execution_count": 11
        }
      ]
    },
    {
      "cell_type": "code",
      "metadata": {
        "colab": {
          "base_uri": "https://localhost:8080/"
        },
        "id": "H4rhpiw3UO6P",
        "outputId": "686d506c-00f4-413d-eeef-4be8b03ea4ca"
      },
      "source": [
        "EvidenciaXYZ =[[[0,0], [0,0], [0,0]],[[0,0], [0,0], [0,0]],[[0,0], [0,0], [0,0]]]\n",
        "\n",
        "for i in range(0,1000):\n",
        "    EvidenciaXYZ[Tabla.Edad[i]][Tabla.Temperatura[i]][Tabla.Bebida[i]] += 1\n",
        "\n",
        "for i in range(0,3):\n",
        "    for j in range(0,3):\n",
        "        EvidenciaXYZ[i][j][0] /= 1000\n",
        "        EvidenciaXYZ[i][j][1] /= 1000\n",
        "\n",
        "UnionXYZ = EvidenciaXYZ # Una copia de Eviencia que me facilitara trabajar al final con indices\n",
        "\n",
        "EvidenciaXYZ = str(EvidenciaXYZ)\n",
        "EvidenciaXYZ = EvidenciaXYZ.replace('[','')\n",
        "EvidenciaXYZ = EvidenciaXYZ.replace(']','')\n",
        "EvidenciaXYZ = EvidenciaXYZ.split(', ')\n",
        "\n",
        "# EvidenciaXYZ\n",
        "# UnionXYZ"
      ],
      "execution_count": 28,
      "outputs": [
        {
          "output_type": "execute_result",
          "data": {
            "text/plain": [
              "[[[0.016, 0.02], [0.047, 0.003], [0.027, 0.001]],\n",
              " [[0.043, 0.135], [0.11, 0.199], [0.061, 0.065]],\n",
              " [[0.008, 0.069], [0.014, 0.119], [0.013, 0.05]]]"
            ]
          },
          "metadata": {
            "tags": []
          },
          "execution_count": 28
        }
      ]
    },
    {
      "cell_type": "code",
      "metadata": {
        "id": "8uS0ySl9cDJF"
      },
      "source": [
        "for i in range(0, 3):\n",
        "    for j in range(0, 3):\n",
        "        UnionXYZ[i][j][0] /= PrioriZ[0]\n",
        "        UnionXYZ[i][j][1] /= PrioriZ[1]\n",
        "\n",
        "# UnionXYZ #En este putno UnionXYZ es igual a Verisisimilitud"
      ],
      "execution_count": null,
      "outputs": []
    },
    {
      "cell_type": "code",
      "metadata": {
        "id": "QPkIzRWEp2ac"
      },
      "source": [
        "Campos = {'X=y':['Menor', 'Menor', 'Menor','Menor', 'Menor', 'Menor', 'Adulto', 'Adulto', 'Adulto', 'Adulto', 'Adulto', 'Adulto', 'Mayor', 'Mayor', 'Mayor', 'Mayor', 'Mayor', 'Mayor'],\n",
        "          'Y=y':['Frio', 'Frio', 'Templado', 'Templado', 'Calido', 'Calido', 'Frio', 'Frio', 'Templado', 'Templado', 'Calido', 'Calido', 'Frio', 'Frio', 'Templado', 'Templado', 'Calido', 'Calido'],\n",
        "          'Z=z':['Fria', 'Caliente', 'Fria', 'Caliente', 'Fria', 'Caliente', 'Fria', 'Caliente', 'Fria', 'Caliente', 'Fria', 'Caliente', 'Fria', 'Caliente', 'Fria', 'Caliente', 'Fria', 'Caliente'],\n",
        "          'P(X=x and Y=y and Z=z)':EvidenciaXYZ}\n",
        "DistribucionXYZ = pd.DataFrame(Campos)\n",
        "# DistribucionXYZ\n"
      ],
      "execution_count": 15,
      "outputs": []
    },
    {
      "cell_type": "code",
      "metadata": {
        "id": "us1QWkDGHY54"
      },
      "source": [
        "tem = [] \n",
        "for i in range(0,18):\n",
        "    if (i % 2) == 0:\n",
        "        tem.append(float(EvidenciaXYZ[i]) / 0.339)\n",
        "    else:\n",
        "        tem.append(float(EvidenciaXYZ[i]) / 0.661)\n",
        "\n",
        "Campos = {'X=y':['Menor', 'Menor', 'Menor','Menor', 'Menor', 'Menor', 'Adulto', 'Adulto', 'Adulto', 'Adulto', 'Adulto', 'Adulto', 'Mayor', 'Mayor', 'Mayor', 'Mayor', 'Mayor', 'Mayor'],\n",
        "          'Y=y':['Frio', 'Frio', 'Templado', 'Templado', 'Calido', 'Calido', 'Frio', 'Frio', 'Templado', 'Templado', 'Calido', 'Calido', 'Frio', 'Frio', 'Templado', 'Templado', 'Calido', 'Calido'],\n",
        "          'Z=z':['Fria', 'Caliente', 'Fria', 'Caliente', 'Fria', 'Caliente', 'Fria', 'Caliente', 'Fria', 'Caliente', 'Fria', 'Caliente', 'Fria', 'Caliente', 'Fria', 'Caliente', 'Fria', 'Caliente'],\n",
        "          'P(X=x and Y=y | Z=z)':tem}\n",
        "Verisimilitud = pd.DataFrame(Campos)\n",
        "# Verisimilitud"
      ],
      "execution_count": 31,
      "outputs": []
    },
    {
      "cell_type": "code",
      "metadata": {
        "colab": {
          "base_uri": "https://localhost:8080/"
        },
        "id": "h4BYf6YWIL_R",
        "outputId": "e371dc5b-6b6a-48fe-83c7-413d0e6ad7aa"
      },
      "source": [
        "print(\"Nuevo cliente\")\n",
        "x = input(\"Edad: \")\n",
        "if x == \"menor\":\n",
        "    x = 0\n",
        "elif x == \"adulto\":\n",
        "    x = 1\n",
        "else:\n",
        "    x = 2\n",
        "\n",
        "y = input(\"Temperatura del dia: \")\n",
        "if y == \"frio\":\n",
        "    y = 0\n",
        "elif y == \"templado\":\n",
        "    y = 1\n",
        "else:\n",
        "    y = 2\n",
        "\n",
        "# Bebida fria\n",
        "opc1 = (PrioriZ[0]*UnionXYZ[x][y][0])/UnionXY[x][y]\n",
        "# Bebida caliente\n",
        "opc2 = (PrioriZ[1]*UnionXYZ[x][y][1])/UnionXY[x][y]\n",
        "\n",
        "if opc1 > opc2:\n",
        "    print(\"La sugerencia es una bebida: fria\")\n",
        "else:\n",
        "    print(\"La sugerencia es una bebida: caliente\")"
      ],
      "execution_count": 34,
      "outputs": [
        {
          "output_type": "stream",
          "text": [
            "Nuevo cliente\n",
            "Edad: menor\n",
            "Temperatura del dia: calido\n",
            "La sugerencia es una bebida: fria\n"
          ],
          "name": "stdout"
        }
      ]
    },
    {
      "cell_type": "code",
      "metadata": {
        "id": "-VK76Al0iK4G"
      },
      "source": [
        "from google.colab import drive\n",
        "drive.mount('/content/drive')"
      ],
      "execution_count": null,
      "outputs": []
    }
  ]
}