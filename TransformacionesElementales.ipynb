{
  "nbformat": 4,
  "nbformat_minor": 0,
  "metadata": {
    "colab": {
      "name": "TransformacionesElementales",
      "provenance": [],
      "collapsed_sections": [],
      "authorship_tag": "ABX9TyMmZnvk28vEuP2XlLscnYrD",
      "include_colab_link": true
    },
    "kernelspec": {
      "name": "python3",
      "display_name": "Python 3"
    },
    "language_info": {
      "name": "python"
    }
  },
  "cells": [
    {
      "cell_type": "markdown",
      "metadata": {
        "id": "view-in-github",
        "colab_type": "text"
      },
      "source": [
        "<a href=\"https://colab.research.google.com/github/alulec/ProgramasTareasVarios/blob/main/TransformacionesElementales.ipynb\" target=\"_parent\"><img src=\"https://colab.research.google.com/assets/colab-badge.svg\" alt=\"Open In Colab\"/></a>"
      ]
    },
    {
      "cell_type": "markdown",
      "source": [
        "a) Elementos que debe cumplir el programa\n",
        "1.  Se debe definir como parámetro  de entrada el número de puntos a graficar en el polígono, ejemplo 3,4,5,6\n",
        "2. Definir como se tomaran las puntos a graficar si están en orden o en desorden\n",
        "3. En caso de estar en orden,  la figura se cerrara con el punto A - N, donde N es el valor de la última coordenada\n",
        "4. En caso de estar desordenados, definir un criterio para ordenar y dibujar  el polígono\n",
        "5. Preguntar el tipo de transformación que se va a realizar, si es una a la vez o varias. En ambos casos aplicar lo que corresponda, si son varias deben de cumplirse las propiedades de las transformaciones\n",
        "6. Dar como resultado final la aplicación de la transformación y/o transformaciones\n",
        "\n",
        "\n",
        "b) El programa puede hacerse en cualquier lenguaje de programación como C, C++ o Python\n",
        "\n",
        "\n",
        "c) Se debe graficar el polígono inicial, así como sus transformaciones y el polígono final\n",
        "\n",
        "\n",
        "d) El programa es en equipo de máximo 4 personas, el listado de los integrantes deberá enviarse en esta asignación en los comentarios el 22 de marzo para la programación de la revisión\n",
        "\n",
        "\n",
        "Se evaluará lo siguiente:\n",
        "\n",
        "\n",
        "1. Código\n",
        "2. Que cumpla con los requerimientos solicitados \n",
        "3. Graficación del polígono\n",
        "4. Preguntas sobre el código a los integrantes del equipo"
      ],
      "metadata": {
        "id": "1YRJa0Ltx3hu"
      }
    },
    {
      "cell_type": "code",
      "source": [
        "# Lectura de los datos referentes a la figura\n",
        "import numpy as np\n",
        "import matplotlib.pyplot as plt\n",
        "\n",
        "noPuntos = int(input(\"¿Cuantos puntos seran? R= \"))\n",
        "print(\"Opciones: 0 -> no, 1-> si\")\n",
        "orden =  int(input(\"¿Los puntos estaran en orden? R= \"))\n",
        "x = []\n",
        "y = []\n",
        "\n",
        "for i in range(noPuntos):\n",
        "    x.append(float(input(\"Dame la x: \")))\n",
        "    y.append(float(input(\"Dame la y: \")))\n"
      ],
      "metadata": {
        "id": "JL3rRZ4kyQdZ",
        "colab": {
          "base_uri": "https://localhost:8080/"
        },
        "outputId": "76c3ecf1-1577-4d1f-9728-5d2bbad30b6c"
      },
      "execution_count": 17,
      "outputs": [
        {
          "name": "stdout",
          "output_type": "stream",
          "text": [
            "¿Cuantos puntos seran? R= 3\n",
            "Opciones: 0 -> no, 1-> si\n",
            "¿Los puntos estaran en orden? R= 1\n",
            "Dame la x: 5\n",
            "Dame la y: 11\n",
            "Dame la x: 13\n",
            "Dame la y: 3\n",
            "Dame la x: 13\n",
            "Dame la y: 19\n"
          ]
        }
      ]
    },
    {
      "cell_type": "code",
      "source": [
        "# Se grafica la figura inicial\n",
        "#x = [-3, -5, -4, -3, -2, -1]\n",
        "#y = [2, 4, 5, 4, 5, 4]\n",
        "#noPuntos = 6\n",
        "#orden = 1\n",
        "if(orden == 1):\n",
        "    for i in range(noPuntos -1):\n",
        "        plt.plot([x[i], x[i+1]],[y[i], y[i+1]], \"b-\")\n",
        "    plt.plot([x[0], x[noPuntos-1]], [y[0], y[noPuntos-1]], \"b-\")\n",
        "    plt.show()\n",
        "else:\n",
        "    print()\n",
        "    \n",
        "    "
      ],
      "metadata": {
        "id": "YMhOYMpaKnRO",
        "colab": {
          "base_uri": "https://localhost:8080/",
          "height": 265
        },
        "outputId": "2b4c0dc3-af95-4bb0-ddc1-edd6297e8fcf"
      },
      "execution_count": 18,
      "outputs": [
        {
          "output_type": "display_data",
          "data": {
            "text/plain": [
              "<Figure size 432x288 with 1 Axes>"
            ],
            "image/png": "[encoded data removed]"
          },
          "metadata": {
            "needs_background": "light"
          }
        }
      ]
    },
    {
      "cell_type": "code",
      "source": [
        "# Se definen funciones para obtener las transformaciones\n",
        "\n",
        "def obtenerRotacion():\n",
        "    grado = round(float(input(\"¿Cuantos grados se rotara? R= \")), 4)\n",
        "    pivoteX = round(float(input(\"Dame la x del pivote: \")), 4)\n",
        "    pivoteY = round(float(input(\"Dame la y del pivote: \")), 4)\n",
        "\n",
        "    grado = round((np.pi*grado)/180, 4)\n",
        "\n",
        "    return [grado, pivoteX, pivoteY]\n",
        "\n",
        "def obtenerEscalamiento():\n",
        "    escX = round(float(input(\"Dame el decremetno/incremento de x: \")), 4)\n",
        "    escY = round(float(input(\"Dame el decremetno/incremento de y: \")), 4)\n",
        "\n",
        "    return [escX, escY]\n",
        "\n",
        "def obtenerTraslacion():\n",
        "    trasX = round(float(input(\"Dame el desplazamiento de x: \")), 4)\n",
        "    trasY = round(float(input(\"Dame el desplazamiento de y: \")), 4)\n",
        "\n",
        "    return [trasX, trasY]"
      ],
      "metadata": {
        "id": "RvZGai7sMnEO"
      },
      "execution_count": 19,
      "outputs": []
    },
    {
      "cell_type": "code",
      "source": [
        "# Se obtienen las transformaciones\n",
        "listaRotaciones = []\n",
        "escalamientoEnX = round(float(1), 4)\n",
        "escalamientoEnY = round(float(1), 4)\n",
        "trasladoEnX = round(float(0), 4)\n",
        "trasladoEnY = round(float(0), 4)\n",
        "\n",
        "noTransformaciones = int(input(\"¿Cuantas transformaciones se haran? R=\"))\n",
        "\n",
        "print(\"0-> Rotar, 1-> Escalar, 2-> Trasladar\")\n",
        "for i in range(noTransformaciones):\n",
        "    opcion = int(input(\"Tipo transformacion: \"))\n",
        "    \n",
        "    if(opcion == 0):\n",
        "        rot = obtenerRotacion()\n",
        "        if (len(listaRotaciones)==0):\n",
        "            listaRotaciones.append(rot)\n",
        "        else:\n",
        "            for i in range(len(listaRotaciones)):\n",
        "                if(listaRotaciones[i][1]== rot[1] and listaRotaciones[i][2]== rot[2]):\n",
        "                    listaRotaciones[i][0] += rot[0]\n",
        "                else:\n",
        "                    listaRotaciones.append(rot)\n",
        "    elif(opcion == 1):\n",
        "        aux = obtenerEscalamiento()\n",
        "        escalamientoEnX *= round(float(aux[0]), 4)\n",
        "        escalamientoEnY *= round(float(aux[1]), 4)\n",
        "    elif(opcion == 2):\n",
        "        temp = obtenerTraslacion()\n",
        "        trasladoEnX += round(float(temp[0]), 4)\n",
        "        trasladoEnY += round(float(temp[1]), 4)"
      ],
      "metadata": {
        "id": "Xg_mQpjjQBnR",
        "colab": {
          "base_uri": "https://localhost:8080/"
        },
        "outputId": "48ff805b-6c94-4cfc-9e6f-bfd491addc0e"
      },
      "execution_count": 20,
      "outputs": [
        {
          "name": "stdout",
          "output_type": "stream",
          "text": [
            "¿Cuantas transformaciones se haran? R=4\n",
            "0-> Rotar, 1-> Escalar, 2-> Trasladar\n",
            "Tipo transformacion: 0\n",
            "¿Cuantos grados se rotara? R= 33\n",
            "Dame la x del pivote: 10\n",
            "Dame la y del pivote: 11\n",
            "Tipo transformacion: 1\n",
            "Dame el decremetno/incremento de x: 0.25\n",
            "Dame el decremetno/incremento de y: 0.25\n",
            "Tipo transformacion: 0\n",
            "¿Cuantos grados se rotara? R= 46\n",
            "Dame la x del pivote: 10\n",
            "Dame la y del pivote: 11\n",
            "Tipo transformacion: 1\n",
            "Dame el decremetno/incremento de x: 0.55\n",
            "Dame el decremetno/incremento de y: 0.55\n"
          ]
        }
      ]
    },
    {
      "cell_type": "code",
      "source": [
        "# Se aplican las transformaciones\n",
        "# Reducción\n",
        "#x = [5, 13, 13]\n",
        "#y = [11, 3, 19]\n",
        "\n",
        "# Rotar\n",
        "for i in range(len(listaRotaciones)):\n",
        "    rotar = listaRotaciones[i]\n",
        "    for j in range(len(x)):\n",
        "            e = round(rotar[1] + (x[j] - rotar[1])*np.cos(rotar[0]) - (y[j] - rotar[2])*np.sin(rotar[0]), 4)\n",
        "            f = round(rotar[2] + (x[j] - rotar[1])*np.sin(rotar[0]) + (y[j] - rotar[2])*np.cos(rotar[0]), 4)\n",
        "\n",
        "            x[j] = e\n",
        "            y[j] = f\n",
        "\n",
        "# Escalar\n",
        "for i in range(len(x)):\n",
        "    a = x[i]\n",
        "    x[i] = round(float(a * escalamientoEnX), 4)\n",
        "    b = y[i]\n",
        "    y[i] = round(float(b * escalamientoEnY), 4)\n",
        "\n",
        "# Traslado\n",
        "for i in range(len(x)):\n",
        "    c = x[i]\n",
        "    x[i] = round(float(c + trasladoEnX), 4)\n",
        "    d = y[i]\n",
        "    y[i] = round(float(d + trasladoEnY), 4)\n",
        "print(x)\n",
        "print(y)"
      ],
      "metadata": {
        "id": "2s6jxvFLS8C3",
        "colab": {
          "base_uri": "https://localhost:8080/"
        },
        "outputId": "2fedee00-eea1-48b1-b9b0-9dec5d593981"
      },
      "execution_count": 22,
      "outputs": [
        {
          "output_type": "stream",
          "name": "stdout",
          "text": [
            "[9.0464, 18.4253, 2.719]\n",
            "[6.0918, 12.4192, 15.4707]\n",
            "[1.2439, 2.5335, 0.3739]\n",
            "[0.8376, 1.7076, 2.1272]\n",
            "[1.2439, 2.5335, 0.3739]\n",
            "[0.8376, 1.7076, 2.1272]\n"
          ]
        }
      ]
    },
    {
      "cell_type": "code",
      "source": [
        "# Se grafica la figura con las transformaciones\n",
        "\n",
        "if(orden == 1):\n",
        "    for i in range(noPuntos -1):\n",
        "        plt.plot([x[i], x[i+1]],[y[i], y[i+1]], \"b-\")\n",
        "    plt.plot([x[0], x[noPuntos-1]], [y[0], y[noPuntos-1]], \"b-\")\n",
        "    plt.show()\n",
        "else:\n",
        "    print()"
      ],
      "metadata": {
        "id": "W1JEOYu2S8CE",
        "colab": {
          "base_uri": "https://localhost:8080/",
          "height": 265
        },
        "outputId": "c4be9a43-4b5e-4e1d-f737-3824fa851763"
      },
      "execution_count": 23,
      "outputs": [
        {
          "output_type": "display_data",
          "data": {
            "text/plain": [
              "<Figure size 432x288 with 1 Axes>"
            ],
            "image/png": "[encoded data removed]"
          },
          "metadata": {
            "needs_background": "light"
          }
        }
      ]
    }
  ]
}