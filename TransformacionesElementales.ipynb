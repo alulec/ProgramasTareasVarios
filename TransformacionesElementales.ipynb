{
  "nbformat": 4,
  "nbformat_minor": 0,
  "metadata": {
    "colab": {
      "name": "TransformacionesElementales",
      "provenance": [],
      "collapsed_sections": [],
      "authorship_tag": "ABX9TyPN3Fj+9OplYiRrqQOF7Iw9",
      "include_colab_link": true
    },
    "kernelspec": {
      "name": "python3",
      "display_name": "Python 3"
    },
    "language_info": {
      "name": "python"
    }
  },
  "cells": [
    {
      "cell_type": "markdown",
      "metadata": {
        "id": "view-in-github",
        "colab_type": "text"
      },
      "source": [
        "<a href=\"https://colab.research.google.com/github/alulec/ProgramasTareasVarios/blob/main/TransformacionesElementales.ipynb\" target=\"_parent\"><img src=\"https://colab.research.google.com/assets/colab-badge.svg\" alt=\"Open In Colab\"/></a>"
      ]
    },
    {
      "cell_type": "markdown",
      "source": [
        "a) Elementos que debe cumplir el programa\n",
        "1.  Se debe definir como parámetro  de entrada el número de puntos a graficar en el polígono, ejemplo 3,4,5,6\n",
        "2. Definir como se tomaran las puntos a graficar si están en orden o en desorden\n",
        "3. En caso de estar en orden,  la figura se cerrara con el punto A - N, donde N es el valor de la última coordenada\n",
        "4. En caso de estar desordenados, definir un criterio para ordenar y dibujar  el polígono\n",
        "5. Preguntar el tipo de transformación que se va a realizar, si es una a la vez o varias. En ambos casos aplicar lo que corresponda, si son varias deben de cumplirse las propiedades de las transformaciones\n",
        "6. Dar como resultado final la aplicación de la transformación y/o transformaciones\n",
        "\n",
        "\n",
        "b) El programa puede hacerse en cualquier lenguaje de programación como C, C++ o Python\n",
        "\n",
        "\n",
        "c) Se debe graficar el polígono inicial, así como sus transformaciones y el polígono final\n",
        "\n",
        "\n",
        "d) El programa es en equipo de máximo 4 personas, el listado de los integrantes deberá enviarse en esta asignación en los comentarios el 22 de marzo para la programación de la revisión\n",
        "\n",
        "\n",
        "Se evaluará lo siguiente:\n",
        "\n",
        "\n",
        "1. Código\n",
        "2. Que cumpla con los requerimientos solicitados \n",
        "3. Graficación del polígono\n",
        "4. Preguntas sobre el código a los integrantes del equipo"
      ],
      "metadata": {
        "id": "1YRJa0Ltx3hu"
      }
    },
    {
      "cell_type": "code",
      "source": [
        "# Lectura de los datos referentes a la figura\n",
        "\n",
        "noPuntos = int(input(\"¿Cuantos puntos seran? R= \"))\n",
        "orden =  int(input(\"¿Los puntos estaran en orden? R= \"))\n",
        "x = []\n",
        "y = []\n",
        "\n",
        "for i in range(noPuntos):\n",
        "    x.append(int(input(\"Dame la x: \")))\n",
        "    y.append(int(input(\"Dame la y: \")))\n"
      ],
      "metadata": {
        "id": "JL3rRZ4kyQdZ",
        "colab": {
          "base_uri": "https://localhost:8080/"
        },
        "outputId": "ce24dc97-c14c-4f53-e6aa-bd96685011a2"
      },
      "execution_count": 1,
      "outputs": [
        {
          "name": "stdout",
          "output_type": "stream",
          "text": [
            "¿Cuantos puntos seran? R= 3\n",
            "¿Los puntos estaran en orden? R= 1\n",
            "Dame la x: 5\n",
            "Dame la y: 11\n",
            "Dame la x: 13\n",
            "Dame la y: 3\n",
            "Dame la x: 13\n",
            "Dame la y: 19\n"
          ]
        }
      ]
    },
    {
      "cell_type": "code",
      "source": [
        "# Se crea una funcion que ordene los puntos en caso de que no los esten\n",
        "\n",
        "def ordenar(listaX,listaY):\n",
        "    print()"
      ],
      "metadata": {
        "id": "rHrltZIezfoO"
      },
      "execution_count": null,
      "outputs": []
    },
    {
      "cell_type": "code",
      "source": [
        "# Se grafica la figura inicial\n",
        "#x = [-3, -5, -4, -3, -2, -1]\n",
        "#y = [2, 4, 5, 4, 5, 4]\n",
        "#noPuntos = 6\n",
        "import matplotlib.pyplot as plt\n",
        "\n",
        "for i in range(noPuntos -1):\n",
        "    plt.plot([x[i], x[i+1]],[y[i], y[i+1]], \"b-\")\n",
        "plt.plot([x[0], x[noPuntos-1]], [y[0], y[noPuntos-1]], \"b-\")\n",
        "plt.show()\n",
        "\n"
      ],
      "metadata": {
        "id": "YMhOYMpaKnRO",
        "colab": {
          "base_uri": "https://localhost:8080/",
          "height": 265
        },
        "outputId": "3eddc872-5e8f-43f7-d8f2-aa5f54a9d98d"
      },
      "execution_count": 2,
      "outputs": [
        {
          "output_type": "display_data",
          "data": {
            "text/plain": [
              "<Figure size 432x288 with 1 Axes>"
            ],
            "image/png": "[encoded data removed]"
          },
          "metadata": {
            "needs_background": "light"
          }
        }
      ]
    },
    {
      "cell_type": "code",
      "source": [
        "# Se definen funciones para obtener las transformaciones\n",
        "import numpy as np\n",
        "\n",
        "def obtenerRotacion():\n",
        "    grado = float(input(\"¿Cuantos grados se rotara? R= \"))\n",
        "    pivoteX = float(input(\"Dame la x del pivote: \"))\n",
        "    pivoteY = float(input(\"Dame la y del pivote: \"))\n",
        "\n",
        "    grado = (np.pi*grado)/180\n",
        "\n",
        "    return [grado, pivoteX, pivoteY]\n",
        "\n",
        "def obtenerEscalamiento():\n",
        "    escX = float(input(\"Dame el decremetno/incremento de x: \"))\n",
        "    escY = float(input(\"Dame el decremetno/incremento de y: \"))\n",
        "\n",
        "    return [escX, escY]\n",
        "\n",
        "def obtenerTraslacion():\n",
        "    trasX = float(input(\"Dame el desplazamiento de x: \"))\n",
        "    trasY = float(input(\"Dame el desplazamiento de y: \"))\n",
        "\n",
        "    return [trasX, trasY]"
      ],
      "metadata": {
        "id": "RvZGai7sMnEO"
      },
      "execution_count": 3,
      "outputs": []
    },
    {
      "cell_type": "code",
      "source": [
        "# Se obtienen las transformaciones\n",
        "listaRotaciones = []\n",
        "escalamientoEnX = 0\n",
        "escalamientoEnY = 0\n",
        "trasladoEnX = 0\n",
        "trasladoEnY = 0\n",
        "\n",
        "noTransformaciones = int(input(\"¿Cuantas transformaciones se haran? R=\"))\n",
        "\n",
        "print(\"0-> Rotar, 1-> Escalar, 2-> Trasladar\")\n",
        "for i in range(noTransformaciones):\n",
        "    opcion = int(input(\"Tipo transformacion: \"))\n",
        "    \n",
        "    if(opcion == 0):\n",
        "        rot = obtenerRotacion()\n",
        "        if (len(listaRotaciones)==0):\n",
        "            listaRotaciones.append(rot)\n",
        "        else:\n",
        "            for i in range(len(listaRotaciones)):\n",
        "                if(listaRotaciones[i][1]== rot[1] and listaRotaciones[i][2]== rot[2]):\n",
        "                    listaRotaciones[i][0] += rot[0]\n",
        "                else:\n",
        "                    listaRotaciones.append(rot)\n",
        "    elif(opcion == 1):\n",
        "        aux = obtenerEscalamiento()\n",
        "        escalamientoEnX += aux[0] \n",
        "        escalamientoEnY += aux[1]\n",
        "    elif(opcion == 2):\n",
        "        temp = obtenerTraslacion()\n",
        "        trasladoEnX = temp[0]\n",
        "        trasladoEnY = temp[1]"
      ],
      "metadata": {
        "id": "Xg_mQpjjQBnR",
        "colab": {
          "base_uri": "https://localhost:8080/"
        },
        "outputId": "76fd88a8-7642-4ec1-8d8a-4a03273d3d1d"
      },
      "execution_count": 4,
      "outputs": [
        {
          "name": "stdout",
          "output_type": "stream",
          "text": [
            "¿Cuantas transformaciones se haran? R=4\n",
            "0-> Rotar, 1-> Escalar, 2-> Trasladar\n",
            "Tipo transformacion: 0\n",
            "¿Cuantos grados se rotara? R= 33\n",
            "Dame la x del pivote: 10\n",
            "Dame la y del pivote: 11\n",
            "Tipo transformacion: 1\n",
            "Dame el decremetno/incremento de x: 0.25\n",
            "Dame el decremetno/incremento de y: 0.25\n",
            "Tipo transformacion: 0\n",
            "¿Cuantos grados se rotara? R= 46\n",
            "Dame la x del pivote: 10\n",
            "Dame la y del pivote: 11\n",
            "Tipo transformacion: 1\n",
            "Dame el decremetno/incremento de x: 0.55\n",
            "Dame el decremetno/incremento de y: 0.55\n"
          ]
        }
      ]
    },
    {
      "cell_type": "code",
      "source": [
        "# Se aplican las transformaciones\n",
        "# Reducción\n",
        "for i in range(len(x)):\n",
        "    a = x[i]\n",
        "    x[i] = a * escalamientoEnX\n",
        "    b = y[i]\n",
        "    y[i] = b * escalamientoEnY\n",
        "\n",
        "# Traslado\n",
        "for i in range(len(x)):\n",
        "    c = x[i]\n",
        "    x[i] = c + trasladoEnX\n",
        "    d = y[i]\n",
        "    y[i] = d + trasladoEnY\n",
        "\n",
        "\n",
        "# Rotar\n",
        "for i in range(len(listaRotaciones)):\n",
        "    rotar = listaRotaciones[i]\n",
        "    for j in range(len(x)):\n",
        "            e = rotar[1] + (x[j] - rotar[1])*np.cos(rotar[0]) - (y[j] - rotar[2])*np.sin(rotar[0])\n",
        "            f = rotar[2] + (x[j] - rotar[1])*np.sin(rotar[0]) + (y[j] - rotar[2])*np.cos(rotar[0])\n",
        "\n",
        "            x[j] = e\n",
        "            y[j] = f\n"
      ],
      "metadata": {
        "id": "2s6jxvFLS8C3"
      },
      "execution_count": 5,
      "outputs": []
    },
    {
      "cell_type": "code",
      "source": [
        "print(x)\n",
        "print(y)"
      ],
      "metadata": {
        "colab": {
          "base_uri": "https://localhost:8080/"
        },
        "id": "IvZAtg0LdSUL",
        "outputId": "6179014c-8092-46b1-94d3-2e5e1556c3ab"
      },
      "execution_count": 6,
      "outputs": [
        {
          "output_type": "stream",
          "name": "stdout",
          "text": [
            "[11.01472583132559, 18.518317375800528, 5.953489427670427]\n",
            "[4.690457109485617, 9.751693513140781, 12.194048653960555]\n"
          ]
        }
      ]
    },
    {
      "cell_type": "code",
      "source": [
        "for i in range(noPuntos -1):\n",
        "    plt.plot([x[i], x[i+1]],[y[i], y[i+1]], \"b-\")\n",
        "plt.plot([x[0], x[noPuntos-1]], [y[0], y[noPuntos-1]], \"b-\")\n",
        "plt.show()"
      ],
      "metadata": {
        "id": "W1JEOYu2S8CE",
        "colab": {
          "base_uri": "https://localhost:8080/",
          "height": 265
        },
        "outputId": "fa795390-7c59-46a7-86c5-4129ef643249"
      },
      "execution_count": 7,
      "outputs": [
        {
          "output_type": "display_data",
          "data": {
            "text/plain": [
              "<Figure size 432x288 with 1 Axes>"
            ],
            "image/png": "[encoded data removed]"
          },
          "metadata": {
            "needs_background": "light"
          }
        }
      ]
    }
  ]
}