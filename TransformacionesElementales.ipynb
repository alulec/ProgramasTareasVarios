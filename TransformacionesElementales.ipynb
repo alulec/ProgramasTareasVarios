{
  "nbformat": 4,
  "nbformat_minor": 0,
  "metadata": {
    "colab": {
      "name": "TransformacionesElementales",
      "provenance": [],
      "collapsed_sections": [],
      "authorship_tag": "ABX9TyOYRRXvTa03wVqN1RUuc0yS",
      "include_colab_link": true
    },
    "kernelspec": {
      "name": "python3",
      "display_name": "Python 3"
    },
    "language_info": {
      "name": "python"
    }
  },
  "cells": [
    {
      "cell_type": "markdown",
      "metadata": {
        "id": "view-in-github",
        "colab_type": "text"
      },
      "source": [
        "<a href=\"https://colab.research.google.com/github/alulec/ProgramasTareasVarios/blob/main/TransformacionesElementales.ipynb\" target=\"_parent\"><img src=\"https://colab.research.google.com/assets/colab-badge.svg\" alt=\"Open In Colab\"/></a>"
      ]
    },
    {
      "cell_type": "markdown",
      "source": [
        "a) Elementos que debe cumplir el programa\n",
        "1.  Se debe definir como parámetro  de entrada el número de puntos a graficar en el polígono, ejemplo 3,4,5,6\n",
        "2. Definir como se tomaran las puntos a graficar si están en orden o en desorden\n",
        "3. En caso de estar en orden,  la figura se cerrara con el punto A - N, donde N es el valor de la última coordenada\n",
        "4. En caso de estar desordenados, definir un criterio para ordenar y dibujar  el polígono\n",
        "5. Preguntar el tipo de transformación que se va a realizar, si es una a la vez o varias. En ambos casos aplicar lo que corresponda, si son varias deben de cumplirse las propiedades de las transformaciones\n",
        "6. Dar como resultado final la aplicación de la transformación y/o transformaciones\n",
        "\n",
        "\n",
        "b) El programa puede hacerse en cualquier lenguaje de programación como C, C++ o Python\n",
        "\n",
        "\n",
        "c) Se debe graficar el polígono inicial, así como sus transformaciones y el polígono final\n",
        "\n",
        "\n",
        "d) El programa es en equipo de máximo 4 personas, el listado de los integrantes deberá enviarse en esta asignación en los comentarios el 22 de marzo para la programación de la revisión\n",
        "\n",
        "\n",
        "Se evaluará lo siguiente:\n",
        "\n",
        "\n",
        "1. Código\n",
        "2. Que cumpla con los requerimientos solicitados \n",
        "3. Graficación del polígono\n",
        "4. Preguntas sobre el código a los integrantes del equipo"
      ],
      "metadata": {
        "id": "1YRJa0Ltx3hu"
      }
    },
    {
      "cell_type": "code",
      "source": [
        "# Lectura de los datos referentes a la figura\n",
        "import numpy as np\n",
        "import matplotlib.pyplot as plt\n",
        "\n",
        "noPuntos = int(input(\"¿Cuantos puntos seran? R= \"))\n",
        "orden =  int(input(\"¿Los puntos estaran en orden? R= \"))\n",
        "x = []\n",
        "y = []\n",
        "\n",
        "for i in range(noPuntos):\n",
        "    x.append(round(np.double(input(\"Dame la x: \")), 4))\n",
        "    y.append(round(np.double(input(\"Dame la y: \")), 4))\n"
      ],
      "metadata": {
        "id": "JL3rRZ4kyQdZ",
        "colab": {
          "base_uri": "https://localhost:8080/"
        },
        "outputId": "c28d5236-c54f-4e66-999f-bea7993d283e"
      },
      "execution_count": 1,
      "outputs": [
        {
          "name": "stdout",
          "output_type": "stream",
          "text": [
            "¿Cuantos puntos seran? R= 3\n",
            "¿Los puntos estaran en orden? R= 1\n",
            "Dame la x: 5\n",
            "Dame la y: 11\n",
            "Dame la x: 13\n",
            "Dame la y: 3\n",
            "Dame la x: 13\n",
            "Dame la y: 19\n"
          ]
        }
      ]
    },
    {
      "cell_type": "code",
      "source": [
        "# Se crea una funcion que ordene los puntos en caso de que no los esten\n",
        "\n",
        "def ordenar(listaX,listaY):\n",
        "    print()"
      ],
      "metadata": {
        "id": "rHrltZIezfoO"
      },
      "execution_count": 29,
      "outputs": []
    },
    {
      "cell_type": "code",
      "source": [
        "# Se grafica la figura inicial\n",
        "#x = [-3, -5, -4, -3, -2, -1]\n",
        "#y = [2, 4, 5, 4, 5, 4]\n",
        "#noPuntos = 6\n",
        "\n",
        "for i in range(noPuntos -1):\n",
        "    plt.plot([x[i], x[i+1]],[y[i], y[i+1]], \"b-\")\n",
        "plt.plot([x[0], x[noPuntos-1]], [y[0], y[noPuntos-1]], \"b-\")\n",
        "plt.show()\n",
        "\n"
      ],
      "metadata": {
        "id": "YMhOYMpaKnRO",
        "colab": {
          "base_uri": "https://localhost:8080/",
          "height": 265
        },
        "outputId": "ba23341a-dd15-48bd-a43c-95da91dcd5cb"
      },
      "execution_count": 2,
      "outputs": [
        {
          "output_type": "display_data",
          "data": {
            "text/plain": [
              "<Figure size 432x288 with 1 Axes>"
            ],
            "image/png": "[encoded data removed]"
          },
          "metadata": {
            "needs_background": "light"
          }
        }
      ]
    },
    {
      "cell_type": "code",
      "source": [
        "# Se definen funciones para obtener las transformaciones\n",
        "\n",
        "def obtenerRotacion():\n",
        "    grado = round(np.double(input(\"¿Cuantos grados se rotara? R= \")), 4)\n",
        "    pivoteX = round(np.double(input(\"Dame la x del pivote: \")), 4)\n",
        "    pivoteY = round(np.double(input(\"Dame la y del pivote: \")), 4)\n",
        "\n",
        "    grado = (np.pi*grado)/180\n",
        "\n",
        "    return np.array([grado, pivoteX, pivoteY])\n",
        "\n",
        "def obtenerEscalamiento():\n",
        "    escX = round(np.double(input(\"Dame el decremetno/incremento de x: \")), 4)\n",
        "    escY = round(np.double(input(\"Dame el decremetno/incremento de y: \")), 4)\n",
        "\n",
        "    return np.array([escX, escY])\n",
        "\n",
        "def obtenerTraslacion():\n",
        "    trasX = round(np.double(input(\"Dame el desplazamiento de x: \")), 4)\n",
        "    trasY = round(np.double(input(\"Dame el desplazamiento de y: \")), 4)\n",
        "\n",
        "    return np.array([trasX, trasY])"
      ],
      "metadata": {
        "id": "RvZGai7sMnEO"
      },
      "execution_count": 3,
      "outputs": []
    },
    {
      "cell_type": "code",
      "source": [
        "# Se obtienen las transformaciones\n",
        "listaRotaciones = []\n",
        "escalamientoEnX = round(np.double(0), 4)\n",
        "escalamientoEnY = round(np.double(0), 4)\n",
        "trasladoEnX = round(np.double(0), 4)\n",
        "trasladoEnY = round(np.double(0), 4)\n",
        "\n",
        "noTransformaciones = int(input(\"¿Cuantas transformaciones se haran? R=\"))\n",
        "\n",
        "print(\"0-> Rotar, 1-> Escalar, 2-> Trasladar\")\n",
        "for i in range(noTransformaciones):\n",
        "    opcion = int(input(\"Tipo transformacion: \"))\n",
        "    \n",
        "    if(opcion == 0):\n",
        "        rot = obtenerRotacion()\n",
        "        if (len(listaRotaciones)==0):\n",
        "            listaRotaciones.append(rot)\n",
        "        else:\n",
        "            for i in range(len(listaRotaciones)):\n",
        "                if(listaRotaciones[i][1]== rot[1] and listaRotaciones[i][2]== rot[2]):\n",
        "                    listaRotaciones[i][0] += rot[0]\n",
        "                else:\n",
        "                    listaRotaciones.append(rot)\n",
        "    elif(opcion == 1):\n",
        "        aux = obtenerEscalamiento()\n",
        "        escalamientoEnX *= round(np.double(aux[0]) , 4)\n",
        "        escalamientoEnY *= round(np.double(aux[1]), 4)\n",
        "    elif(opcion == 2):\n",
        "        temp = obtenerTraslacion()\n",
        "        trasladoEnX += round(temp[0], 4)\n",
        "        trasladoEnY += round(temp[1], 4)"
      ],
      "metadata": {
        "id": "Xg_mQpjjQBnR",
        "colab": {
          "base_uri": "https://localhost:8080/"
        },
        "outputId": "50f41c45-0568-43cb-9bbc-35953263d376"
      },
      "execution_count": 4,
      "outputs": [
        {
          "name": "stdout",
          "output_type": "stream",
          "text": [
            "¿Cuantas transformaciones se haran? R=4\n",
            "0-> Rotar, 1-> Escalar, 2-> Trasladar\n",
            "Tipo transformacion: 0\n",
            "¿Cuantos grados se rotara? R= 33\n",
            "Dame la x del pivote: 10\n",
            "Dame la y del pivote: 11\n",
            "Tipo transformacion: 1\n",
            "Dame el decremetno/incremento de x: 0.25\n",
            "Dame el decremetno/incremento de y: 0.25\n",
            "Tipo transformacion: 0\n",
            "¿Cuantos grados se rotara? R= 46\n",
            "Dame la x del pivote: 10\n",
            "Dame la y del pivote: 11\n",
            "Tipo transformacion: 1\n",
            "Dame el decremetno/incremento de x: 0.55\n",
            "Dame el decremetno/incremento de y: 0.55\n"
          ]
        }
      ]
    },
    {
      "cell_type": "code",
      "source": [
        "print(listaRotaciones)\n",
        "print(escalamientoEnX)\n",
        "print(escalamientoEnY)\n",
        "print(trasladoEnX)\n",
        "print(trasladoEnY)\n"
      ],
      "metadata": {
        "colab": {
          "base_uri": "https://localhost:8080/"
        },
        "id": "oN1L5lqIgc6u",
        "outputId": "04701a24-d1b6-4f30-c5ba-08266a0e92b9"
      },
      "execution_count": 5,
      "outputs": [
        {
          "output_type": "stream",
          "name": "stdout",
          "text": [
            "[array([ 1.37881011, 10.        , 11.        ])]\n",
            "0.0\n",
            "0.0\n",
            "0.0\n",
            "0.0\n"
          ]
        }
      ]
    },
    {
      "cell_type": "code",
      "source": [
        "# Se aplican las transformaciones\n",
        "# Reducción\n",
        "#x = [5, 13, 13]\n",
        "#y = [11, 3, 19]\n",
        "\n",
        "# Rotar\n",
        "for i in range(len(listaRotaciones)):\n",
        "    rotar = listaRotaciones[i]\n",
        "    for j in range(len(x)):\n",
        "            e = rotar[1] + (x[j] - rotar[1])*np.cos(rotar[0]) - (y[j] - rotar[2])*np.sin(rotar[0])\n",
        "            f = rotar[2] + (x[j] - rotar[1])*np.sin(rotar[0]) + (y[j] - rotar[2])*np.cos(rotar[0])\n",
        "\n",
        "            x[j] = e\n",
        "            y[j] = f\n",
        "print(x)\n",
        "print(y)\n",
        "\n",
        "# Escalar\n",
        "for i in range(len(x)):\n",
        "    a = x[i]\n",
        "    x[i] = round(np.double(a * escalamientoEnX), 4)\n",
        "    b = y[i]\n",
        "    y[i] = round(np.double(b * escalamientoEnY), 4)\n",
        "print(x)\n",
        "print(y)\n",
        "\n",
        "# Traslado\n",
        "for i in range(len(x)):\n",
        "    c = x[i]\n",
        "    x[i] = round(np.double(c + trasladoEnX), 4)\n",
        "    d = y[i]\n",
        "    y[i] = round(np.double(d + trasladoEnY), 4)\n",
        "print(x)\n",
        "print(y)"
      ],
      "metadata": {
        "id": "2s6jxvFLS8C3",
        "colab": {
          "base_uri": "https://localhost:8080/"
        },
        "outputId": "a7b51be0-851b-4abb-9e48-8ca225f1e652"
      },
      "execution_count": 6,
      "outputs": [
        {
          "output_type": "stream",
          "name": "stdout",
          "text": [
            "[9.045955023117276, 18.425444453710945, 2.719409518548323]\n",
            "[6.09186408276168, 12.418409587330633, 15.47135351335535]\n",
            "[0.0, 0.0, 0.0]\n",
            "[0.0, 0.0, 0.0]\n",
            "[0.0, 0.0, 0.0]\n",
            "[0.0, 0.0, 0.0]\n"
          ]
        }
      ]
    },
    {
      "cell_type": "code",
      "source": [
        "for i in range(noPuntos -1):\n",
        "    plt.plot([x[i], x[i+1]],[y[i], y[i+1]], \"b-\")\n",
        "plt.plot([x[0], x[noPuntos-1]], [y[0], y[noPuntos-1]], \"b-\")\n",
        "plt.show()"
      ],
      "metadata": {
        "id": "W1JEOYu2S8CE",
        "colab": {
          "base_uri": "https://localhost:8080/",
          "height": 265
        },
        "outputId": "b1a448d1-1997-4e99-f070-fdaa2dc46dde"
      },
      "execution_count": 7,
      "outputs": [
        {
          "output_type": "display_data",
          "data": {
            "text/plain": [
              "<Figure size 432x288 with 1 Axes>"
            ],
            "image/png": "[encoded data removed]"
          },
          "metadata": {
            "needs_background": "light"
          }
        }
      ]
    }
  ]
}