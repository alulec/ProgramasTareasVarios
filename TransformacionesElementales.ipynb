{
  "nbformat": 4,
  "nbformat_minor": 0,
  "metadata": {
    "colab": {
      "name": "TransformacionesElementales",
      "provenance": [],
      "collapsed_sections": [],
      "authorship_tag": "ABX9TyPR5w9rmwD5peF4Xlto9fAc",
      "include_colab_link": true
    },
    "kernelspec": {
      "name": "python3",
      "display_name": "Python 3"
    },
    "language_info": {
      "name": "python"
    }
  },
  "cells": [
    {
      "cell_type": "markdown",
      "metadata": {
        "id": "view-in-github",
        "colab_type": "text"
      },
      "source": [
        "<a href=\"https://colab.research.google.com/github/alulec/ProgramasTareasVarios/blob/main/TransformacionesElementales.ipynb\" target=\"_parent\"><img src=\"https://colab.research.google.com/assets/colab-badge.svg\" alt=\"Open In Colab\"/></a>"
      ]
    },
    {
      "cell_type": "markdown",
      "source": [
        "a) Elementos que debe cumplir el programa\n",
        "1.  Se debe definir como parámetro  de entrada el número de puntos a graficar en el polígono, ejemplo 3,4,5,6\n",
        "2. Definir como se tomaran las puntos a graficar si están en orden o en desorden\n",
        "3. En caso de estar en orden,  la figura se cerrara con el punto A - N, donde N es el valor de la última coordenada\n",
        "4. En caso de estar desordenados, definir un criterio para ordenar y dibujar  el polígono\n",
        "5. Preguntar el tipo de transformación que se va a realizar, si es una a la vez o varias. En ambos casos aplicar lo que corresponda, si son varias deben de cumplirse las propiedades de las transformaciones\n",
        "6. Dar como resultado final la aplicación de la transformación y/o transformaciones\n",
        "\n",
        "\n",
        "b) El programa puede hacerse en cualquier lenguaje de programación como C, C++ o Python\n",
        "\n",
        "\n",
        "c) Se debe graficar el polígono inicial, así como sus transformaciones y el polígono final\n",
        "\n",
        "\n",
        "d) El programa es en equipo de máximo 4 personas, el listado de los integrantes deberá enviarse en esta asignación en los comentarios el 22 de marzo para la programación de la revisión\n",
        "\n",
        "\n",
        "Se evaluará lo siguiente:\n",
        "\n",
        "\n",
        "1. Código\n",
        "2. Que cumpla con los requerimientos solicitados \n",
        "3. Graficación del polígono\n",
        "4. Preguntas sobre el código a los integrantes del equipo"
      ],
      "metadata": {
        "id": "1YRJa0Ltx3hu"
      }
    },
    {
      "cell_type": "code",
      "source": [
        "# Lectura de los datos referentes a la figura\n",
        "\n",
        "noPuntos = int(input(\"¿Cuantos puntos seran? R= \"))\n",
        "orden =  int(input(\"¿Los puntos estaran en orden? R= \"))\n",
        "x = []\n",
        "y = []\n",
        "\n",
        "for i in range(noPuntos):\n",
        "    x.append(int(input(\"Dame la x: \")))\n",
        "    y.append(int(input(\"Dame la y: \")))\n"
      ],
      "metadata": {
        "id": "JL3rRZ4kyQdZ",
        "colab": {
          "base_uri": "https://localhost:8080/"
        },
        "outputId": "994cfebc-29a7-4a2c-aeeb-faa962acee06"
      },
      "execution_count": 1,
      "outputs": [
        {
          "name": "stdout",
          "output_type": "stream",
          "text": [
            "¿Cuantos puntos seran? R= 0\n",
            "¿Los puntos estaran en orden? R= 0\n"
          ]
        }
      ]
    },
    {
      "cell_type": "code",
      "source": [
        "# Se crea una funcion que ordene los puntos en caso de que no los esten\n",
        "\n",
        "def ordenar(listaX,listaY):\n",
        "    print()"
      ],
      "metadata": {
        "id": "rHrltZIezfoO"
      },
      "execution_count": null,
      "outputs": []
    },
    {
      "cell_type": "code",
      "source": [
        "# Se grafica la figura inicial\n",
        "x = [-3, -5, -4, -3, -2, -1]\n",
        "y = [2, 4, 5, 4, 5, 4]\n",
        "noPuntos = 6\n",
        "import matplotlib.pyplot as plt\n",
        "\n",
        "for i in range(noPuntos -1):\n",
        "    plt.plot([x[i], x[i+1]],[y[i], y[i+1]], \"b-\")\n",
        "plt.plot([x[0], x[noPuntos-1]], [y[0], y[noPuntos-1]], \"b-\")\n",
        "plt.show()\n",
        "\n"
      ],
      "metadata": {
        "id": "YMhOYMpaKnRO",
        "colab": {
          "base_uri": "https://localhost:8080/",
          "height": 265
        },
        "outputId": "7f5d8b5a-0318-48d7-d56a-9ccabe52a3fe"
      },
      "execution_count": 2,
      "outputs": [
        {
          "output_type": "display_data",
          "data": {
            "text/plain": [
              "<Figure size 432x288 with 1 Axes>"
            ],
            "image/png": "[encoded data removed]"
          },
          "metadata": {
            "needs_background": "light"
          }
        }
      ]
    },
    {
      "cell_type": "code",
      "source": [
        "# Se definen funciones para obtener las transformaciones\n",
        "\n",
        "def obtenerRotacion():\n",
        "    grado = int(input(\"¿Cuantos grados se rotara? R= \"))\n",
        "    pivoteX = int(input(\"Dame la x del pivote: \"))\n",
        "    pivoteY = int(input(\"Dame la y del pivote: \"))\n",
        "\n",
        "    grado = (3.141592*grado)/180\n",
        "\n",
        "    return [grado, pivoteX, pivoteY]\n",
        "\n",
        "def obtenerEscalamiento():\n",
        "    escX = int(input(\"Dame el decremetno/incremento de x: \"))\n",
        "    escY = int(input(\"Dame el decremetno/incremento de y: \"))\n",
        "\n",
        "    return [escX, escY]\n",
        "\n",
        "def obtenerTraslacion():\n",
        "    trasX = int(input(\"Dame el desplazamiento de x: \"))\n",
        "    trasY = int(input(\"Dame el desplazamiento de y: \"))\n",
        "\n",
        "    return [trasX, trasY]"
      ],
      "metadata": {
        "id": "RvZGai7sMnEO"
      },
      "execution_count": 3,
      "outputs": []
    },
    {
      "cell_type": "code",
      "source": [
        "# Se obtienen las transformaciones\n",
        "listaRotaciones = []\n",
        "escalamientoEnX = 0\n",
        "escalamientoEnY = 0\n",
        "trasladoEnX = 0\n",
        "trasladoEnY = 0\n",
        "\n",
        "noTransformaciones = int(input(\"¿Cuantas transformaciones se haran? R=\"))\n",
        "\n",
        "print(\"0-> Rotar, 1-> Escalar, 2-> Trasladar\")\n",
        "for i in range(noTransformaciones):\n",
        "    opcion = int(input(\"Tipo transformacion: \"))\n",
        "    \n",
        "    if(opcion == 0):\n",
        "        rot = obtenerRotacion()\n",
        "        if (len(listaRotaciones)==0):\n",
        "            listaRotaciones.append(rot)\n",
        "        else:\n",
        "            for i in range(len(listaRotaciones)):\n",
        "                if(listaRotaciones[i][1]== rot[1] and listaRotaciones[i][2]== rot[2]):\n",
        "                    listaRotaciones[i][0] += rot[0]\n",
        "                else:\n",
        "                    listaRotaciones.append(rot)\n",
        "    elif(opcion == 1):\n",
        "        aux = obtenerEscalamiento()\n",
        "        escalamientoEnX += aux[0] \n",
        "        escalamientoEnY += aux[1]\n",
        "    elif(opcion == 2):\n",
        "        temp = obtenerTraslacion()\n",
        "        trasladoEnX = temp[0]\n",
        "        trasladoEnY = temp[1]"
      ],
      "metadata": {
        "id": "Xg_mQpjjQBnR",
        "colab": {
          "base_uri": "https://localhost:8080/"
        },
        "outputId": "5cf1bb0f-e1ef-4911-83e8-17100bf7192b"
      },
      "execution_count": 4,
      "outputs": [
        {
          "output_type": "stream",
          "name": "stdout",
          "text": [
            "¿Cuantas transformaciones se haran? R=0\n",
            "0-> Rotar, 1-> Escalar, 2-> Trasladar\n"
          ]
        }
      ]
    },
    {
      "cell_type": "code",
      "source": [
        "help(list)"
      ],
      "metadata": {
        "id": "2s6jxvFLS8C3"
      },
      "execution_count": null,
      "outputs": []
    },
    {
      "cell_type": "code",
      "source": [
        ""
      ],
      "metadata": {
        "id": "W1JEOYu2S8CE"
      },
      "execution_count": null,
      "outputs": []
    }
  ]
}