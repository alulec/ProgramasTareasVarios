{
  "nbformat": 4,
  "nbformat_minor": 0,
  "metadata": {
    "colab": {
      "name": "CalcularCoordenadas.ipynb",
      "provenance": [],
      "collapsed_sections": [],
      "authorship_tag": "ABX9TyOqaO5m006mcZPO1QaQanth",
      "include_colab_link": true
    },
    "kernelspec": {
      "name": "python3",
      "display_name": "Python 3"
    },
    "language_info": {
      "name": "python"
    }
  },
  "cells": [
    {
      "cell_type": "markdown",
      "metadata": {
        "id": "view-in-github",
        "colab_type": "text"
      },
      "source": [
        "<a href=\"https://colab.research.google.com/github/alulec/ProgramasTareasVarios/blob/main/CalcularCoordenadas.ipynb\" target=\"_parent\"><img src=\"https://colab.research.google.com/assets/colab-badge.svg\" alt=\"Open In Colab\"/></a>"
      ]
    },
    {
      "cell_type": "code",
      "source": [
        "# Se cargan las librerias\n",
        "\n",
        "import numpy as np\n",
        "import matplotlib.pyplot as plt\n",
        "from mpl_toolkits.mplot3d import axes3d\n"
      ],
      "metadata": {
        "id": "UMGtYAfDb6Km"
      },
      "execution_count": null,
      "outputs": []
    },
    {
      "cell_type": "code",
      "execution_count": 40,
      "metadata": {
        "id": "UOHsyf11UioY"
      },
      "outputs": [],
      "source": [
        "# Se definen todas las funciones necesarias\n",
        "\n",
        "def obtenerPunto3D():\n",
        "    print(\"Ingrese el punto: \")\n",
        "    punto = input()\n",
        "    punto = punto[1:-1]\n",
        "    punto = punto.split(',')\n",
        "    return [int(punto[0]), int(punto[1]), int(punto[2])]\n",
        "\n",
        "def obtenerPunto2D():\n",
        "    print(\"Ingrese el punto: \")\n",
        "    punto = input()\n",
        "    punto = punto[1:-1]\n",
        "    punto = punto.split(',')\n",
        "    return [int(punto[0]), int(punto[1])]\n",
        "\n",
        "def graficarFigura3D(listaX, listaY, listaZ, tipoFugura):\n",
        "    if(tipoFugura == 0): # para piramide\n",
        "        x = np.array([listaX[:-1]])\n",
        "        y = np.array([listaY[:-1]])\n",
        "        z = np.array([listaZ[:-1]])\n",
        "        ax1.plot_wireframe(x, y, z)\n",
        "\n",
        "        x = np.array([[listaX[0], listaX[-2]]])\n",
        "        y = np.array([[listaY[0], listaY[-2]]])\n",
        "        z = np.array([[listaZ[0], listaZ[-2]]])\n",
        "        ax1.plot_wireframe(x, y, z)\n",
        "\n",
        "        for i in range(len(listaX -1)):\n",
        "            x = np.array([[listaX[i], listaX[-1]]])\n",
        "            y = np.array([[listaY[i], listaY[-1]]])\n",
        "            z = np.array([[listaZ[i], listaZ[-1]]])\n",
        "            ax1.plot_wireframe(x, y, z)\n",
        "\n",
        "        plt.show()\n",
        "    if(tipoFugura == 1): # para cajas\n",
        "        mitad = int(len(listaX)/2)\n",
        "\n",
        "        x = np.array([listaX[:-mitad]])\n",
        "        y = np.array([listaY[:-mitad]])\n",
        "        z = np.array([listaZ[:-mitad]])\n",
        "        ax1.plot_wireframe(x, y, z)\n",
        "        x = np.array([[listaX[0], listaX[-(mitad + 1)]]])\n",
        "        y = np.array([[listaY[0], listaY[-(mitad + 1)]]])\n",
        "        z = np.array([[listaZ[0], listaZ[-(mitad + 1)]]])\n",
        "        ax1.plot_wireframe(x, y, z)\n",
        "\n",
        "        x = np.array([listaX[mitad:]])\n",
        "        y = np.array([listaY[mitad:]])\n",
        "        z = np.array([listaZ[mitad:]])\n",
        "        ax1.plot_wireframe(x, y, z)\n",
        "        x = np.array([[listaX[mitad], listaX[-1]]])\n",
        "        y = np.array([[listaY[mitad], listaY[-1]]])\n",
        "        z = np.array([[listaZ[mitad], listaZ[-1]]])\n",
        "        ax1.plot_wireframe(x, y, z)\n",
        "\n",
        "        for i in range(mitad):\n",
        "            x = np.array([[listaX[i], listaX[(i + mitad)]]])\n",
        "            y = np.array([[listaY[i], listaY[(i + mitad)]]])\n",
        "            z = np.array([[listaZ[i], listaZ[(i + mitad)]]])\n",
        "            ax1.plot_wireframe(x, y, z)\n",
        "\n",
        "def graficarFigura2D(listaX, listaY):\n",
        "    for i in range(len(listaX) -1):\n",
        "        plt.plot([listaX[i], listaX[i+1]],[listaY[i], listaY[i+1]], \"b-\")\n",
        "    plt.plot([listaX[0], listaX[len(listaX)-1]], [listaY[0], listaY[len(listaX)-1]], \"b-\")\n",
        "    plt.show()\n",
        "\n"
      ]
    },
    {
      "cell_type": "code",
      "source": [
        ""
      ],
      "metadata": {
        "id": "Khl-EYg9Vp-6"
      },
      "execution_count": null,
      "outputs": []
    }
  ]
}