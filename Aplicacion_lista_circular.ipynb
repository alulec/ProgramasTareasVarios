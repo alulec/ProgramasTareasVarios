{
  "nbformat": 4,
  "nbformat_minor": 0,
  "metadata": {
    "colab": {
      "name": "Aplicacion_lista_circular.ipynb",
      "provenance": [],
      "authorship_tag": "ABX9TyMmAmeXg8BibFFde2IPI6h+",
      "include_colab_link": true
    },
    "kernelspec": {
      "name": "python3",
      "display_name": "Python 3"
    }
  },
  "cells": [
    {
      "cell_type": "markdown",
      "metadata": {
        "id": "view-in-github",
        "colab_type": "text"
      },
      "source": [
        "<a href=\"https://colab.research.google.com/github/alulec/ProgramasTareasVarios/blob/main/Aplicacion_lista_circular.ipynb\" target=\"_parent\"><img src=\"https://colab.research.google.com/assets/colab-badge.svg\" alt=\"Open In Colab\"/></a>"
      ]
    },
    {
      "cell_type": "markdown",
      "metadata": {
        "id": "9MGhByYq0Svy"
      },
      "source": [
        "EN TU NEGOCIO TIENES UNA SECUENCIA DE N SILLAS ACOMODAS EN LÍNEA RECTA Y NUMERADAS DE 1 A N, POR CADA PERSONA QUE SE SIENTE EN UNA SILLA CON EL NÚMERO X, DEBERÁS PAGAR $X AL GOBIERNO, PERO COMO QUIERES TENER CÓMODOS A LOS CLIENTES, NO TIENES OTRA OPCIÓN QUE PEDIRLES QUE TOMEN ASIENTO; SIN EMBARGO, EL  APRECIO POR EL CLIENTE AÚN NO TE HA QUITADO LA CODICIA, POR LO QUE PUEDES INDICARLE A CADA CLIENTE DONDE SENTARSE, PERO EL CLIENTE DESIDE CUANDO IRSE; DESDE EL MOMENTO QUE UN CLIENTE LLEGA HASTA EL MOMENTO QUE SE VA, EL CLIENTE PASARÁ TODO EL TIEMPO SENTADO EN UNA SILLA Y NO ESTARÁ DISPUESTO A COMPARTIRLA CON NADIE MAS.  UTILIZANDO ESTRUCTURAS DE DATOS DETERMINAR: DADO EL HISTORIAL DE QUÉ CLIENTES LLEGAN Y QUÉ CLIENTES SE VAN EN ORDEN CRONOLÓGICO, CALCULE QUE ASIENTOS ASIGNARLES A CADA QUIEN PARA QUE EL DINERO QUE DEBAS PAGAR AL GOBIERNO SEA EL MÍNIMO POSIBLE."
      ]
    },
    {
      "cell_type": "code",
      "metadata": {
        "id": "PMfLQLH_xcFf"
      },
      "source": [
        "class Nodo:\r\n",
        "    def __init__(self, value, next=None):\r\n",
        "        self.dato = value\r\n",
        "        self.next = next\r\n",
        "\r\n",
        "class CircularList:\r\n",
        "    def __init__(self):\r\n",
        "        self.__ref = None\r\n",
        "        self.__size = 0\r\n",
        "        self.__deuda = 0\r\n",
        "\r\n",
        "    def is_empty(self):\r\n",
        "        return self.__size == 0\r\n",
        "\r\n",
        "    def insert(self, value):\r\n",
        "        existe = self.search(value) \r\n",
        "        if existe != True:\r\n",
        "            if self.__size == 0:\r\n",
        "                self.__ref = Nodo(value)\r\n",
        "            elif self.__size == 1:\r\n",
        "                if value < self.__ref.dato:\r\n",
        "                    nuevo = Nodo(value, self.__ref)\r\n",
        "                    self.__ref.next = nuevo\r\n",
        "                else:\r\n",
        "                    nuevo = Nodo(value, self.__ref)\r\n",
        "                    self.__ref.next = nuevo\r\n",
        "                    self.__ref = nuevo    \r\n",
        "            else:\r\n",
        "                if value > self.__ref.dato:\r\n",
        "                    nuevo = Nodo(value, self.__ref.next)\r\n",
        "                    self.__ref.next = nuevo\r\n",
        "                    self.__ref = nuevo\r\n",
        "                elif value < self.__ref.next.dato:\r\n",
        "                    nuevo = Nodo(value, self.__ref.next)\r\n",
        "                    self.__ref.next = nuevo\r\n",
        "                else:\r\n",
        "                    curr_node = self.__ref.next\r\n",
        "                    while curr_node.dato < value:\r\n",
        "                        ant = curr_node\r\n",
        "                        curr_node = curr_node.next\r\n",
        "                    nuevo = Nodo(value, curr_node)\r\n",
        "                    ant.next = nuevo\r\n",
        "            self.__size += 1\r\n",
        "            self.__deuda = self.__deuda + value\r\n",
        "\r\n",
        "    def transversal(self):\r\n",
        "        if self.__size == 1:\r\n",
        "            print(self.__ref.dato)\r\n",
        "        else:\r\n",
        "            curr_node = self.__ref.next\r\n",
        "            while curr_node.dato < self.__ref.dato:\r\n",
        "                print(\"|\" + str(curr_node.dato) + \"|->\", end=\"\")\r\n",
        "                curr_node = curr_node.next\r\n",
        "            print(\"|\" + str(self.__ref.dato) + \"|->\")\r\n",
        "\r\n",
        "    def search(self, value):\r\n",
        "        if self.is_empty() == False and self.__size > 2:\r\n",
        "            curr_node = self.__ref.next\r\n",
        "            cont = False\r\n",
        "            for x in range(self.__size):\r\n",
        "                if value == curr_node.dato:\r\n",
        "                    cont = True\r\n",
        "                curr_node = curr_node.next\r\n",
        "            return cont\r\n",
        "        else:\r\n",
        "            return False\r\n",
        "\r\n",
        "    def hueco(self):\r\n",
        "        num = 0\r\n",
        "        while self.search(num) == True:\r\n",
        "            num += 1\r\n",
        "        return num\r\n",
        "\r\n",
        "    def aPagar(self):\r\n",
        "        return self.__deuda\r\n",
        "\r\n",
        "    def remove(self, value):\r\n",
        "        curr_node = self.__ref.next\r\n",
        "        ant = None\r\n",
        "        while curr_node.dato != value:\r\n",
        "            ant = curr_node\r\n",
        "            curr_node = curr_node.next\r\n",
        "        ant.next = curr_node.next"
      ],
      "execution_count": 16,
      "outputs": []
    },
    {
      "cell_type": "code",
      "metadata": {
        "colab": {
          "base_uri": "https://localhost:8080/"
        },
        "id": "1GTosCUN3br9",
        "outputId": "3d7c9362-db48-4b01-dcb6-cc2c03bc6380"
      },
      "source": [
        "sillas = CircularList()\r\n",
        "sillas.insert(0)\r\n",
        "sillas.insert(1)\r\n",
        "sillas.insert(2)\r\n",
        "sillas.insert(3)\r\n",
        "sillas.insert(4)\r\n",
        "sillas.insert(5)\r\n",
        "sillas.insert(6)\r\n",
        "sillas.insert(7)\r\n",
        "sillas.transversal()\r\n",
        "print(sillas.aPagar())\r\n",
        "sillas.remove(5)\r\n",
        "print(sillas.hueco())\r\n",
        "sillas.insert(5)\r\n",
        "sillas.transversal()"
      ],
      "execution_count": 23,
      "outputs": [
        {
          "output_type": "stream",
          "text": [
            "|0|->|1|->|2|->|3|->|4|->|5|->|6|->|7|->\n",
            "28\n",
            "5\n",
            "|0|->|1|->|2|->|3|->|4|->|5|->|6|->|7|->\n"
          ],
          "name": "stdout"
        }
      ]
    }
  ]
}