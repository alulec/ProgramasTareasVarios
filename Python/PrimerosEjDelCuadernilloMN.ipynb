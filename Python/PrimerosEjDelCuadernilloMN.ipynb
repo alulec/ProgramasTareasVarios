{
  "nbformat": 4,
  "nbformat_minor": 0,
  "metadata": {
    "colab": {
      "name": "PrimerosEjDelCuadernilloMN.ipynb",
      "provenance": [],
      "authorship_tag": "ABX9TyPVMb7FWCJIJr3bn63S3+ZD",
      "include_colab_link": true
    },
    "kernelspec": {
      "name": "python3",
      "display_name": "Python 3"
    }
  },
  "cells": [
    {
      "cell_type": "markdown",
      "metadata": {
        "id": "view-in-github",
        "colab_type": "text"
      },
      "source": [
        "<a href=\"https://colab.research.google.com/github/alulec/ProgramasTareasVarios/blob/main/Python/PrimerosEjDelCuadernilloMN.ipynb\" target=\"_parent\"><img src=\"https://colab.research.google.com/assets/colab-badge.svg\" alt=\"Open In Colab\"/></a>"
      ]
    },
    {
      "cell_type": "code",
      "metadata": {
        "id": "GEf-S7MtLmqW",
        "outputId": "b33f6989-e685-4fe8-8528-86d6b5402614",
        "colab": {
          "base_uri": "https://localhost:8080/"
        }
      },
      "source": [
        "\"\"\" Calcula la hipotenusa de un triangulo rectangulo\n",
        "solicitando los catetos a y b al usuario. \"\"\"\n",
        "\n",
        "import math \n",
        "\n",
        "print(\"Ingrese el valor del cateto a: \")\n",
        "a = float(input())\n",
        "print(\"Ingrese el valor del cateto b: \")\n",
        "b = float(input())\n",
        "h = math.sqrt(a**2 + b**2)\n",
        "print(\"La hipotenusa es de: \", h) \n"
      ],
      "execution_count": 41,
      "outputs": [
        {
          "output_type": "stream",
          "text": [
            "Ingrese el valor del cateto a: \n",
            "3\n",
            "Ingrese el valor del cateto b: \n",
            "4\n",
            "La hipotenusa es de:  5.0\n"
          ],
          "name": "stdout"
        }
      ]
    },
    {
      "cell_type": "code",
      "metadata": {
        "id": "QjiIV_-bNABp"
      },
      "source": [
        "\"\"\" Calcula las raices de una ecuacion del\n",
        "tipo ax^2 + bx + c solicitando los valores \n",
        "de a, b y c al usuario. \"\"\"\n",
        "\n",
        "import math as m\n",
        "\n",
        "print(\"Ingrese el valor de a: \")\n",
        "a = float(input())\n",
        "print(\"Ingrese el valor de b: \")\n",
        "b = float(input())\n",
        "print(\"Ingrese el valor de c: \")\n",
        "c = float(input())\n",
        "disc = b**2 -4*a*c\n",
        "if (disc > 0):\n",
        "    x1 = (-b + m.sqrt(disc))/ (2*a)\n",
        "    x2 = (-b - m.sqrt(disc))/ (2*a)\n",
        "elif (disc < 0):\n",
        "    real = -b/(2*a) \n",
        "    imag = m.sqrt(-1*((disc) / (2*a)))\n",
        "    x1 = real, \"+\" , imag , \"i\"\n",
        "    x2 = real , \" - \" , imag , \"i\"\n",
        "else:\n",
        "  x1 = 0\n",
        "  x2 = 0\n",
        "print(\"Las raices son: \")\n",
        "print(\"x1 = \", x1)\n",
        "print(\"x2 = \", x2)"
      ],
      "execution_count": null,
      "outputs": []
    },
    {
      "cell_type": "code",
      "metadata": {
        "id": "xCvoqpXfNK22"
      },
      "source": [
        "\"\"\" Dado el año de nacimiento, el programa \n",
        "regresa el horoscopo chino del usuario. \"\"\"\n",
        "print(\"Ingrese su año de nacimiento: \")\n",
        "anio = int(input())\n",
        "while (anio > 1900):\n",
        "    anio = anio -12\n",
        "if (anio < 1900):\n",
        "    anio = anio + 12\n",
        "if (anio == 1900):\n",
        "    print(\"Su año es el de la Rata\")\n",
        "elif (anio == 1901):\n",
        "    print(\"Su año es el del Buey\")\n",
        "elif (anio == 1902):\n",
        "    print(\"Su año es el del Tigre\")\n",
        "elif (anio == 1903):\n",
        "    print(\"Su año es el del Conejo\")\n",
        "elif (anio == 1904):\n",
        "    print(\"Su año es el del Dragon\")\n",
        "elif (anio == 1905):\n",
        "    print(\"Su año es el de la Serpiente\")\n",
        "elif (anio == 1906):\n",
        "    print(\"Su año es el del Caballo\")\n",
        "elif (anio == 1907):\n",
        "    print(\"Su año es el del Carnero\")\n",
        "elif (anio == 1908):\n",
        "    print(\"Su año es el del Mono\")\n",
        "elif (anio == 1909):\n",
        "    print(\"Su año es el del Gallo\")\n",
        "elif (anio == 1910):\n",
        "    print(\"Su año es el del Perro\")\n",
        "else:\n",
        "    print(\"Su año es el del Jabali\")\n"
      ],
      "execution_count": null,
      "outputs": []
    },
    {
      "cell_type": "code",
      "metadata": {
        "id": "zOarzcxjunlz",
        "outputId": "45193fcf-131e-4187-d163-3c451838254f",
        "colab": {
          "base_uri": "https://localhost:8080/"
        }
      },
      "source": [
        "x = 1\n",
        "while (x < 101):\n",
        "    print(x, end=\",\")\n",
        "    x = x + 1\n",
        "print()\n",
        "print()\n",
        "x = 0\n",
        "while (x < 701):\n",
        "    print(x, end=\",\")\n",
        "    x = x + 7\n",
        "print()\n",
        "print()\n",
        "x = 100\n",
        "while (x >= 0):\n",
        "    print(x, end=\",\")\n",
        "    x = x - 2\n",
        "print()\n",
        "print()\n",
        "x = 0\n",
        "while (x <= 10):\n",
        "    print(x , end=\", \")\n",
        "    x = round(x + 0.1,1)\n",
        "print()\n",
        "print()\n",
        "x = 1\n",
        "while (x <= 32768):\n",
        "    print(x, end=\" \")\n",
        "    x = 2*x\n"
      ],
      "execution_count": 1,
      "outputs": [
        {
          "output_type": "stream",
          "text": [
            "1,2,3,4,5,6,7,8,9,10,11,12,13,14,15,16,17,18,19,20,21,22,23,24,25,26,27,28,29,30,31,32,33,34,35,36,37,38,39,40,41,42,43,44,45,46,47,48,49,50,51,52,53,54,55,56,57,58,59,60,61,62,63,64,65,66,67,68,69,70,71,72,73,74,75,76,77,78,79,80,81,82,83,84,85,86,87,88,89,90,91,92,93,94,95,96,97,98,99,100,\n",
            "\n",
            "0,7,14,21,28,35,42,49,56,63,70,77,84,91,98,105,112,119,126,133,140,147,154,161,168,175,182,189,196,203,210,217,224,231,238,245,252,259,266,273,280,287,294,301,308,315,322,329,336,343,350,357,364,371,378,385,392,399,406,413,420,427,434,441,448,455,462,469,476,483,490,497,504,511,518,525,532,539,546,553,560,567,574,581,588,595,602,609,616,623,630,637,644,651,658,665,672,679,686,693,700,\n",
            "\n",
            "100,98,96,94,92,90,88,86,84,82,80,78,76,74,72,70,68,66,64,62,60,58,56,54,52,50,48,46,44,42,40,38,36,34,32,30,28,26,24,22,20,18,16,14,12,10,8,6,4,2,0,\n",
            "\n",
            "0, 0.1, 0.2, 0.3, 0.4, 0.5, 0.6, 0.7, 0.8, 0.9, 1.0, 1.1, 1.2, 1.3, 1.4, 1.5, 1.6, 1.7, 1.8, 1.9, 2.0, 2.1, 2.2, 2.3, 2.4, 2.5, 2.6, 2.7, 2.8, 2.9, 3.0, 3.1, 3.2, 3.3, 3.4, 3.5, 3.6, 3.7, 3.8, 3.9, 4.0, 4.1, 4.2, 4.3, 4.4, 4.5, 4.6, 4.7, 4.8, 4.9, 5.0, 5.1, 5.2, 5.3, 5.4, 5.5, 5.6, 5.7, 5.8, 5.9, 6.0, 6.1, 6.2, 6.3, 6.4, 6.5, 6.6, 6.7, 6.8, 6.9, 7.0, 7.1, 7.2, 7.3, 7.4, 7.5, 7.6, 7.7, 7.8, 7.9, 8.0, 8.1, 8.2, 8.3, 8.4, 8.5, 8.6, 8.7, 8.8, 8.9, 9.0, 9.1, 9.2, 9.3, 9.4, 9.5, 9.6, 9.7, 9.8, 9.9, 10.0, \n",
            "\n",
            "1 2 4 8 16 32 64 128 256 512 1024 2048 4096 8192 16384 32768 "
          ],
          "name": "stdout"
        }
      ]
    },
    {
      "cell_type": "code",
      "metadata": {
        "id": "4n9At7vc-2Ao",
        "outputId": "3c3c9a22-775c-4106-ef7a-ec9817583fb7",
        "colab": {
          "base_uri": "https://localhost:8080/"
        }
      },
      "source": [
        "for i in range(1, 101, 1):\n",
        "  print(i, end=\",\")\n",
        "print()\n",
        "print()\n",
        "for i in range(0, 707, 7):\n",
        "  print(i, end=\",\")\n",
        "print()\n",
        "print()\n",
        "for i in range(100, -1, -2):\n",
        "  print(i, end=\",\")\n",
        "print()\n",
        "print()\n",
        "x = 0\n",
        "for i in range(0, 101, 1):\n",
        "  print(x, end=\",\")\n",
        "  x = round(x + 0.1, 1)\n",
        "print()\n",
        "print()\n",
        "for i in range(0, 16, 1):\n",
        "  print(2**i, end=\",\")"
      ],
      "execution_count": 16,
      "outputs": [
        {
          "output_type": "stream",
          "text": [
            "1,2,3,4,5,6,7,8,9,10,11,12,13,14,15,16,17,18,19,20,21,22,23,24,25,26,27,28,29,30,31,32,33,34,35,36,37,38,39,40,41,42,43,44,45,46,47,48,49,50,51,52,53,54,55,56,57,58,59,60,61,62,63,64,65,66,67,68,69,70,71,72,73,74,75,76,77,78,79,80,81,82,83,84,85,86,87,88,89,90,91,92,93,94,95,96,97,98,99,100,\n",
            "\n",
            "0,7,14,21,28,35,42,49,56,63,70,77,84,91,98,105,112,119,126,133,140,147,154,161,168,175,182,189,196,203,210,217,224,231,238,245,252,259,266,273,280,287,294,301,308,315,322,329,336,343,350,357,364,371,378,385,392,399,406,413,420,427,434,441,448,455,462,469,476,483,490,497,504,511,518,525,532,539,546,553,560,567,574,581,588,595,602,609,616,623,630,637,644,651,658,665,672,679,686,693,700,\n",
            "\n",
            "100,98,96,94,92,90,88,86,84,82,80,78,76,74,72,70,68,66,64,62,60,58,56,54,52,50,48,46,44,42,40,38,36,34,32,30,28,26,24,22,20,18,16,14,12,10,8,6,4,2,0,\n",
            "\n",
            "0,0.1,0.2,0.3,0.4,0.5,0.6,0.7,0.8,0.9,1.0,1.1,1.2,1.3,1.4,1.5,1.6,1.7,1.8,1.9,2.0,2.1,2.2,2.3,2.4,2.5,2.6,2.7,2.8,2.9,3.0,3.1,3.2,3.3,3.4,3.5,3.6,3.7,3.8,3.9,4.0,4.1,4.2,4.3,4.4,4.5,4.6,4.7,4.8,4.9,5.0,5.1,5.2,5.3,5.4,5.5,5.6,5.7,5.8,5.9,6.0,6.1,6.2,6.3,6.4,6.5,6.6,6.7,6.8,6.9,7.0,7.1,7.2,7.3,7.4,7.5,7.6,7.7,7.8,7.9,8.0,8.1,8.2,8.3,8.4,8.5,8.6,8.7,8.8,8.9,9.0,9.1,9.2,9.3,9.4,9.5,9.6,9.7,9.8,9.9,10.0,\n",
            "\n",
            "1,2,4,8,16,32,64,128,256,512,1024,2048,4096,8192,16384,32768,"
          ],
          "name": "stdout"
        }
      ]
    },
    {
      "cell_type": "code",
      "metadata": {
        "id": "QFJPysxtDSfe",
        "outputId": "f71ab8a8-7625-4ea5-c4f2-84f2bc22d872",
        "colab": {
          "base_uri": "https://localhost:8080/"
        }
      },
      "source": [
        "x = 1000\n",
        "while (x != 1):\n",
        "  n = 2\n",
        "  while(n<=x):\n",
        "    if (n == x):\n",
        "      print(x, end=\", \")\n",
        "      n = x + 2\n",
        "    if((x%n)!=0):\n",
        "      n = n + 1\n",
        "    else:\n",
        "      n = x + 2\n",
        "  x = x - 1"
      ],
      "execution_count": 17,
      "outputs": [
        {
          "output_type": "stream",
          "text": [
            "997, 991, 983, 977, 971, 967, 953, 947, 941, 937, 929, 919, 911, 907, 887, 883, 881, 877, 863, 859, 857, 853, 839, 829, 827, 823, 821, 811, 809, 797, 787, 773, 769, 761, 757, 751, 743, 739, 733, 727, 719, 709, 701, 691, 683, 677, 673, 661, 659, 653, 647, 643, 641, 631, 619, 617, 613, 607, 601, 599, 593, 587, 577, 571, 569, 563, 557, 547, 541, 523, 521, 509, 503, 499, 491, 487, 479, 467, 463, 461, 457, 449, 443, 439, 433, 431, 421, 419, 409, 401, 397, 389, 383, 379, 373, 367, 359, 353, 349, 347, 337, 331, 317, 313, 311, 307, 293, 283, 281, 277, 271, 269, 263, 257, 251, 241, 239, 233, 229, 227, 223, 211, 199, 197, 193, 191, 181, 179, 173, 167, 163, 157, 151, 149, 139, 137, 131, 127, 113, 109, 107, 103, 101, 97, 89, 83, 79, 73, 71, 67, 61, 59, 53, 47, 43, 41, 37, 31, 29, 23, 19, 17, 13, 11, 7, 5, 3, 2, "
          ],
          "name": "stdout"
        }
      ]
    },
    {
      "cell_type": "code",
      "metadata": {
        "id": "kG5p6wRLEBtQ",
        "outputId": "e5540ae8-d4ed-46b2-de3c-86a3b3d1e059",
        "colab": {
          "base_uri": "https://localhost:8080/",
          "height": 265
        }
      },
      "source": [
        "import numpy as np\n",
        "import matplotlib.pyplot as plt\n",
        "\n",
        "x = np.arange(-10, 10, 0.1)\n",
        "y = x**2 + 3\n",
        "plt.plot(x,y)\n",
        "plt.show()"
      ],
      "execution_count": 18,
      "outputs": [
        {
          "output_type": "display_data",
          "data": {
            "image/png": "[encoded data removed]",
            "text/plain": [
              "<Figure size 432x288 with 1 Axes>"
            ]
          },
          "metadata": {
            "tags": [],
            "needs_background": "light"
          }
        }
      ]
    },
    {
      "cell_type": "code",
      "metadata": {
        "id": "BoShcvZdFBB3",
        "outputId": "d2e5f07b-74ee-4d20-953b-21bba4bf26b4",
        "colab": {
          "base_uri": "https://localhost:8080/",
          "height": 282
        }
      },
      "source": [
        "import numpy as np\n",
        "import matplotlib.pyplot as plt\n",
        "\n",
        "x = np.arange(-10, 10, 0.1)\n",
        "y = np.sin(x)\n",
        "\n",
        "plt.plot(x,y)\n",
        "plt.show"
      ],
      "execution_count": 25,
      "outputs": [
        {
          "output_type": "execute_result",
          "data": {
            "text/plain": [
              "<function matplotlib.pyplot.show>"
            ]
          },
          "metadata": {
            "tags": []
          },
          "execution_count": 25
        },
        {
          "output_type": "display_data",
          "data": {
            "image/png": "[encoded data removed]",
            "text/plain": [
              "<Figure size 432x288 with 1 Axes>"
            ]
          },
          "metadata": {
            "tags": [],
            "needs_background": "light"
          }
        }
      ]
    },
    {
      "cell_type": "code",
      "metadata": {
        "id": "zol0Fpk_IKOZ",
        "outputId": "7d0ace31-9720-4b33-fc7b-d7ec977ae56b",
        "colab": {
          "base_uri": "https://localhost:8080/",
          "height": 282
        }
      },
      "source": [
        "import numpy as np\n",
        "import matplotlib.pyplot as plt\n",
        "\n",
        "x = np.arange(-1, 10, 0.1)\n",
        "y = (np.e)**(-x)\n",
        "plt.plot(x,y)\n",
        "plt.show"
      ],
      "execution_count": 40,
      "outputs": [
        {
          "output_type": "execute_result",
          "data": {
            "text/plain": [
              "<function matplotlib.pyplot.show>"
            ]
          },
          "metadata": {
            "tags": []
          },
          "execution_count": 40
        },
        {
          "output_type": "display_data",
          "data": {
            "image/png": "[encoded data removed]",
            "text/plain": [
              "<Figure size 432x288 with 1 Axes>"
            ]
          },
          "metadata": {
            "tags": [],
            "needs_background": "light"
          }
        }
      ]
    }
  ]
}